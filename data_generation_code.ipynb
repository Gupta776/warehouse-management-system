{
  "nbformat": 4,
  "nbformat_minor": 0,
  "metadata": {
    "colab": {
      "provenance": []
    },
    "kernelspec": {
      "name": "python3",
      "display_name": "Python 3"
    },
    "language_info": {
      "name": "python"
    }
  },
  "cells": [
    {
      "cell_type": "code",
      "execution_count": null,
      "metadata": {
        "colab": {
          "base_uri": "https://localhost:8080/"
        },
        "id": "EBTLn-JJJelx",
        "outputId": "a3e29a56-123a-493b-ff61-7f262f098b03"
      },
      "outputs": [
        {
          "output_type": "stream",
          "name": "stdout",
          "text": [
            "Looking in indexes: https://pypi.org/simple, https://us-python.pkg.dev/colab-wheels/public/simple/\n",
            "Collecting faker\n",
            "  Downloading Faker-18.6.2-py3-none-any.whl (1.7 MB)\n",
            "\u001b[2K     \u001b[90m━━━━━━━━━━━━━━━━━━━━━━━━━━━━━━━━━━━━━━━━\u001b[0m \u001b[32m1.7/1.7 MB\u001b[0m \u001b[31m18.7 MB/s\u001b[0m eta \u001b[36m0:00:00\u001b[0m\n",
            "\u001b[?25hRequirement already satisfied: python-dateutil>=2.4 in /usr/local/lib/python3.10/dist-packages (from faker) (2.8.2)\n",
            "Requirement already satisfied: six>=1.5 in /usr/local/lib/python3.10/dist-packages (from python-dateutil>=2.4->faker) (1.16.0)\n",
            "Installing collected packages: faker\n",
            "Successfully installed faker-18.6.2\n"
          ]
        }
      ],
      "source": [
        "!pip install faker"
      ]
    },
    {
      "cell_type": "code",
      "source": [
        "from faker import Faker\n",
        "import random\n",
        "import csv\n",
        "fake = Faker()"
      ],
      "metadata": {
        "id": "FdX373TWJvUv"
      },
      "execution_count": null,
      "outputs": []
    },
    {
      "cell_type": "code",
      "source": [
        "class gen():\n",
        "  def __init__(self, number_rows_suppliers = 1000, number_rows_products = 5000, number_rows_warehouses = 500, number_rows_order_id = 200000, number_rows_order_date = 1000):\n",
        "\n",
        "    self.number_suppliers = number_rows_suppliers\n",
        "    self.number_products = number_rows_products\n",
        "    self.number_warehouese = number_rows_warehouses\n",
        "    self.number_order_id = number_rows_order_id\n",
        "    self.number_order_date = number_rows_order_date\n",
        "\n",
        "    self.suppliers = []\n",
        "    self.supplier_company_name = []\n",
        "\n",
        "    self.products = []\n",
        "    self.product_names = []\n",
        "\n",
        "    self.warehouses = []\n",
        "    self.warehouse_names = []\n",
        "\n",
        "    self.order_id = []\n",
        "    self.order_date = []\n",
        "\n",
        "    self.final_data = []\n",
        "\n",
        "    \n",
        "  def create_product_names(self):\n",
        "    while len(self.product_names) < self.number_products:\n",
        "      name = ''.join(fake.words(random.randint(1,3)))\n",
        "      if name not in self.product_names:\n",
        "          self.product_names.append(name)\n",
        "    print('created product names')\n",
        "\n",
        "  def create_product_details(self):\n",
        "    for i in range(len(self.product_names)):\n",
        "      pr_name = self.product_names[i]\n",
        "      pr_description = f\"The product name is {pr_name}. \"\n",
        "      pr_unit_price = random.randint(1, 1000)\n",
        "      pr_weight = random.randint(50,1000)\n",
        "      self.products.append((pr_name, pr_description, pr_unit_price, pr_weight)) # 4\n",
        "    print( f'Number of product ({len(self.product_names)}) details generated in the create funtion {len(self.products)}')\n",
        "  \n",
        "  def evaluate_product_list(self):\n",
        "    if len(self.products) != len(set(self.products)):\n",
        "        print(\"There are duplicates in the product list\")\n",
        "    else:\n",
        "        print(\"There are no duplicates in the product list\")\n",
        "\n",
        "  def create_supplier_names(self):\n",
        "    while len(self.supplier_company_name) < self.number_suppliers:\n",
        "      supplier_company_name_full = fake.company()\n",
        "      supplier_company_name = supplier_company_name_full.replace(\" \", \"_\")\n",
        "      if supplier_company_name not in self.supplier_company_name:\n",
        "        self.supplier_company_name.append(supplier_company_name)\n",
        "    print(f'number of supplier company names created -- {len(self.supplier_company_name)}')\n",
        "\n",
        "  def evaluate_supplier(self):\n",
        "    print(f'verifying if there is any duplicate in supplier  -- {len(self.supplier_company_name)}')\n",
        "    if len(self.supplier_company_name) != len(set(self.supplier_company_name)):\n",
        "        print(\"There are duplicates in the supplier list\")\n",
        "    else:\n",
        "        print(\"There are no duplicates in the supplier list\")\n",
        "  \n",
        "  def create_supplier_details(self):\n",
        "    for i in range(len(self.supplier_company_name)):\n",
        "      supplier_company_name = self.supplier_company_name[i]\n",
        "      contact_name = fake.name()\n",
        "      address = fake.address()\n",
        "      address = f'{supplier_company_name} , {address}'\n",
        "      phone = random.randint(7160000000,7169999999)\n",
        "      email = f\"{supplier_company_name}@gmail.com\"\n",
        "      self.suppliers.append((supplier_company_name, contact_name, address, phone, email)) # 5\n",
        "    print('created the supplier details')\n",
        "\n",
        "  def evaluate_suppliers_details_list(self):\n",
        "    if len(self.suppliers) != len(set(self.suppliers)):\n",
        "        print(\"There are duplicates in the suppliers details list\")\n",
        "    else:\n",
        "        print(\"There are no duplicates in the  suppliers details list\")\n",
        "\n",
        "  def create_warehouse_names(self):\n",
        "    while len(self.warehouse_names) < self.number_warehouese:\n",
        "      name = fake.city() + \" Warehouse\"\n",
        "      if name not in self.warehouse_names:\n",
        "          self.warehouse_names.append(name)\n",
        "  \n",
        "  def create_warehouse_details(self):\n",
        "    for i in range(len(self.warehouse_names)):\n",
        "      warehouse_name = self.warehouse_names[i]\n",
        "      war_address = warehouse_name + ' ' + fake.address()\n",
        "      self.warehouses.append((warehouse_name, war_address))\n",
        "  \n",
        "  def evaluation_warehouse(self):\n",
        "    if len(self.warehouses) != len(set(self.warehouses)):\n",
        "        print(\"There are duplicates in the warehouses details list\")\n",
        "    else:\n",
        "        print(\"There are no duplicates in the  warehouses details list\")\n",
        "  \n",
        "  def create_order(self):\n",
        "    for i in range(self.number_order_id):\n",
        "      order_number_format = \"???\"\n",
        "      name = f'{fake.bothify(order_number_format)}{i}'\n",
        "      self.order_id.append(name)\n",
        "    print('created order id')\n",
        "  \n",
        "  def create_order_date(self):\n",
        "    while len(self.order_date) < self.number_order_date:\n",
        "      date = fake.date_between(start_date='-3y', end_date='today')\n",
        "      if date not in self.order_date:\n",
        "          self.order_date.append(date)\n",
        "    print('created order date')\n",
        "  \n",
        "  def product_data(self):\n",
        "    self.create_product_names()\n",
        "    self.create_product_details()\n",
        "    self.evaluate_product_list()\n",
        "  \n",
        "  def supplier_data(self):\n",
        "    self.create_supplier_names()\n",
        "    self.create_supplier_details()\n",
        "    self.evaluate_suppliers_details_list()\n",
        "  \n",
        "  def warehouse_data(self):\n",
        "    self.create_warehouse_names()\n",
        "    self.create_warehouse_details()\n",
        "  \n",
        "  def create_full_data(self):\n",
        "    for kkkk in range(len(self.order_id)):\n",
        "      supplier_id = random.randint(0, self.number_suppliers-1)\n",
        "      product_id = random.randint(0, self.number_products-1)\n",
        "      warehouse_id = random.randint(0, self.number_warehouese-1)\n",
        "      self.final_data.append((self.order_id[kkkk], random.choice(self.order_date), self.suppliers[supplier_id][0], self.suppliers[supplier_id][0], self.suppliers[supplier_id][1]\n",
        "                  , self.suppliers[supplier_id][2], self.suppliers[supplier_id][3], self.suppliers[supplier_id][4], self.products[product_id][0], self.products[product_id][1]\n",
        "                  , random.randint(1, 250) , self.products[product_id][2], self.products[product_id][3], self.warehouses[warehouse_id][0],self.warehouses[warehouse_id][1] ))\n",
        "  \n",
        "  def write_data(self):\n",
        "    with open('orders.csv', mode='w', newline='') as file:\n",
        "      writer = csv.writer(file)\n",
        "      for order in self.final_data:\n",
        "        writer.writerow(order)\n"
      ],
      "metadata": {
        "id": "GBX-rAGcJ2ba"
      },
      "execution_count": null,
      "outputs": []
    },
    {
      "cell_type": "code",
      "source": [
        "order = gen()\n",
        "order.product_data()\n",
        "order.supplier_data()\n",
        "order.create_order_date()\n",
        "order.warehouse_data()\n",
        "order.create_order()\n"
      ],
      "metadata": {
        "colab": {
          "base_uri": "https://localhost:8080/"
        },
        "id": "tm96E1JbLE70",
        "outputId": "eb5be9b9-5022-4106-a1b5-79c0cceb3bdc"
      },
      "execution_count": null,
      "outputs": [
        {
          "output_type": "stream",
          "name": "stdout",
          "text": [
            "created product names\n",
            "Number of product (5000) details generated in the create funtion 5000\n",
            "There are no duplicates in the product list\n",
            "number of supplier company names created -- 1000\n",
            "created the supplier details\n",
            "There are no duplicates in the  suppliers details list\n",
            "created order date\n",
            "created order id\n"
          ]
        }
      ]
    },
    {
      "cell_type": "code",
      "source": [
        "order.create_full_data()"
      ],
      "metadata": {
        "id": "W9T0LAipmDZO"
      },
      "execution_count": null,
      "outputs": []
    },
    {
      "cell_type": "code",
      "source": [
        "order.write_data()"
      ],
      "metadata": {
        "id": "l4E40aI0m77n"
      },
      "execution_count": null,
      "outputs": []
    }
  ]
}